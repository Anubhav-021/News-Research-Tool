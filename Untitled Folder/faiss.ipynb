{
 "cells": [
  {
   "cell_type": "code",
   "execution_count": 1,
   "id": "ce1c908e",
   "metadata": {},
   "outputs": [
    {
     "name": "stdout",
     "output_type": "stream",
     "text": [
      "Collecting faiss-cpu\n",
      "  Obtaining dependency information for faiss-cpu from https://files.pythonhosted.org/packages/c8/ad/d74139e96d50b55f280a524475e4616dcb296397764f8216d0967515626a/faiss_cpu-1.8.0.post1-cp39-cp39-win_amd64.whl.metadata\n",
      "  Downloading faiss_cpu-1.8.0.post1-cp39-cp39-win_amd64.whl.metadata (3.8 kB)\n",
      "Requirement already satisfied: numpy<2.0,>=1.0 in c:\\users\\this pc\\anaconda3\\envs\\tf-new\\lib\\site-packages (from faiss-cpu) (1.25.2)\n",
      "Requirement already satisfied: packaging in c:\\users\\this pc\\anaconda3\\envs\\tf-new\\lib\\site-packages (from faiss-cpu) (23.2)\n",
      "Downloading faiss_cpu-1.8.0.post1-cp39-cp39-win_amd64.whl (14.6 MB)\n",
      "   ---------------------------------------- 0.0/14.6 MB ? eta -:--:--\n",
      "   ---------------------------------------- 0.1/14.6 MB 3.3 MB/s eta 0:00:05\n",
      "    --------------------------------------- 0.3/14.6 MB 3.4 MB/s eta 0:00:05\n",
      "   - -------------------------------------- 0.5/14.6 MB 3.1 MB/s eta 0:00:05\n",
      "   - -------------------------------------- 0.6/14.6 MB 3.3 MB/s eta 0:00:05\n",
      "   -- ------------------------------------- 0.8/14.6 MB 3.7 MB/s eta 0:00:04\n",
      "   -- ------------------------------------- 1.0/14.6 MB 3.6 MB/s eta 0:00:04\n",
      "   --- ------------------------------------ 1.2/14.6 MB 3.7 MB/s eta 0:00:04\n",
      "   --- ------------------------------------ 1.4/14.6 MB 3.9 MB/s eta 0:00:04\n",
      "   ---- ----------------------------------- 1.7/14.6 MB 4.0 MB/s eta 0:00:04\n",
      "   ----- ---------------------------------- 1.9/14.6 MB 4.4 MB/s eta 0:00:03\n",
      "   ----- ---------------------------------- 2.1/14.6 MB 4.1 MB/s eta 0:00:04\n",
      "   ------ --------------------------------- 2.3/14.6 MB 4.1 MB/s eta 0:00:04\n",
      "   ------ --------------------------------- 2.4/14.6 MB 4.0 MB/s eta 0:00:04\n",
      "   ------ --------------------------------- 2.5/14.6 MB 3.9 MB/s eta 0:00:04\n",
      "   ------- -------------------------------- 2.7/14.6 MB 3.8 MB/s eta 0:00:04\n",
      "   ------- -------------------------------- 2.8/14.6 MB 3.8 MB/s eta 0:00:04\n",
      "   -------- ------------------------------- 3.1/14.6 MB 3.9 MB/s eta 0:00:03\n",
      "   -------- ------------------------------- 3.2/14.6 MB 3.8 MB/s eta 0:00:04\n",
      "   --------- ------------------------------ 3.4/14.6 MB 3.9 MB/s eta 0:00:03\n",
      "   --------- ------------------------------ 3.6/14.6 MB 3.9 MB/s eta 0:00:03\n",
      "   ---------- ----------------------------- 3.9/14.6 MB 3.9 MB/s eta 0:00:03\n",
      "   ---------- ----------------------------- 4.0/14.6 MB 3.9 MB/s eta 0:00:03\n",
      "   ----------- ---------------------------- 4.1/14.6 MB 3.8 MB/s eta 0:00:03\n",
      "   ----------- ---------------------------- 4.2/14.6 MB 3.8 MB/s eta 0:00:03\n",
      "   ----------- ---------------------------- 4.2/14.6 MB 3.8 MB/s eta 0:00:03\n",
      "   ----------- ---------------------------- 4.2/14.6 MB 3.8 MB/s eta 0:00:03\n",
      "   ----------- ---------------------------- 4.2/14.6 MB 3.8 MB/s eta 0:00:03\n",
      "   ------------ --------------------------- 4.6/14.6 MB 3.6 MB/s eta 0:00:03\n",
      "   ------------- -------------------------- 4.8/14.6 MB 3.6 MB/s eta 0:00:03\n",
      "   ------------- -------------------------- 5.0/14.6 MB 3.6 MB/s eta 0:00:03\n",
      "   -------------- ------------------------- 5.3/14.6 MB 3.7 MB/s eta 0:00:03\n",
      "   -------------- ------------------------- 5.4/14.6 MB 3.6 MB/s eta 0:00:03\n",
      "   --------------- ------------------------ 5.5/14.6 MB 3.6 MB/s eta 0:00:03\n",
      "   ---------------- ----------------------- 5.9/14.6 MB 3.8 MB/s eta 0:00:03\n",
      "   ---------------- ----------------------- 6.1/14.6 MB 3.7 MB/s eta 0:00:03\n",
      "   ----------------- ---------------------- 6.4/14.6 MB 3.8 MB/s eta 0:00:03\n",
      "   ------------------ --------------------- 6.6/14.6 MB 3.8 MB/s eta 0:00:03\n",
      "   ------------------ --------------------- 6.7/14.6 MB 3.8 MB/s eta 0:00:03\n",
      "   ------------------ --------------------- 6.8/14.6 MB 3.8 MB/s eta 0:00:03\n",
      "   ------------------- -------------------- 6.9/14.6 MB 3.7 MB/s eta 0:00:03\n",
      "   ------------------- -------------------- 7.2/14.6 MB 3.8 MB/s eta 0:00:02\n",
      "   -------------------- ------------------- 7.4/14.6 MB 3.8 MB/s eta 0:00:02\n",
      "   --------------------- ------------------ 7.7/14.6 MB 3.8 MB/s eta 0:00:02\n",
      "   --------------------- ------------------ 7.9/14.6 MB 3.9 MB/s eta 0:00:02\n",
      "   ---------------------- ----------------- 8.2/14.6 MB 3.9 MB/s eta 0:00:02\n",
      "   ----------------------- ---------------- 8.4/14.6 MB 3.9 MB/s eta 0:00:02\n",
      "   ----------------------- ---------------- 8.6/14.6 MB 3.9 MB/s eta 0:00:02\n",
      "   ------------------------ --------------- 8.9/14.6 MB 4.0 MB/s eta 0:00:02\n",
      "   ------------------------- -------------- 9.2/14.6 MB 4.0 MB/s eta 0:00:02\n",
      "   ------------------------- -------------- 9.3/14.6 MB 4.0 MB/s eta 0:00:02\n",
      "   -------------------------- ------------- 9.6/14.6 MB 4.0 MB/s eta 0:00:02\n",
      "   -------------------------- ------------- 9.7/14.6 MB 4.0 MB/s eta 0:00:02\n",
      "   --------------------------- ------------ 10.0/14.6 MB 4.1 MB/s eta 0:00:02\n",
      "   --------------------------- ------------ 10.1/14.6 MB 4.0 MB/s eta 0:00:02\n",
      "   ---------------------------- ----------- 10.3/14.6 MB 4.0 MB/s eta 0:00:02\n",
      "   ----------------------------- ---------- 10.6/14.6 MB 4.1 MB/s eta 0:00:01\n",
      "   ----------------------------- ---------- 10.9/14.6 MB 4.1 MB/s eta 0:00:01\n",
      "   ------------------------------ --------- 11.1/14.6 MB 4.1 MB/s eta 0:00:01\n",
      "   ------------------------------ --------- 11.3/14.6 MB 4.1 MB/s eta 0:00:01\n",
      "   ------------------------------- -------- 11.6/14.6 MB 4.2 MB/s eta 0:00:01\n",
      "   -------------------------------- ------- 11.9/14.6 MB 4.2 MB/s eta 0:00:01\n",
      "   --------------------------------- ------ 12.1/14.6 MB 4.1 MB/s eta 0:00:01\n",
      "   ---------------------------------- ----- 12.4/14.6 MB 4.2 MB/s eta 0:00:01\n",
      "   ---------------------------------- ----- 12.7/14.6 MB 4.3 MB/s eta 0:00:01\n",
      "   ----------------------------------- ---- 12.8/14.6 MB 4.4 MB/s eta 0:00:01\n",
      "   ----------------------------------- ---- 13.1/14.6 MB 4.4 MB/s eta 0:00:01\n",
      "   ------------------------------------ --- 13.3/14.6 MB 4.4 MB/s eta 0:00:01\n",
      "   ------------------------------------ --- 13.4/14.6 MB 4.4 MB/s eta 0:00:01\n",
      "   ------------------------------------- -- 13.7/14.6 MB 4.4 MB/s eta 0:00:01\n",
      "   -------------------------------------- - 13.9/14.6 MB 4.4 MB/s eta 0:00:01\n",
      "   -------------------------------------- - 14.1/14.6 MB 4.4 MB/s eta 0:00:01\n",
      "   ---------------------------------------  14.4/14.6 MB 4.5 MB/s eta 0:00:01\n",
      "   ---------------------------------------  14.6/14.6 MB 4.8 MB/s eta 0:00:01\n",
      "   ---------------------------------------  14.6/14.6 MB 4.7 MB/s eta 0:00:01\n",
      "   ---------------------------------------  14.6/14.6 MB 4.7 MB/s eta 0:00:01\n",
      "   ---------------------------------------  14.6/14.6 MB 4.7 MB/s eta 0:00:01\n",
      "   ---------------------------------------  14.6/14.6 MB 4.7 MB/s eta 0:00:01\n",
      "   ---------------------------------------- 14.6/14.6 MB 4.3 MB/s eta 0:00:00\n",
      "Installing collected packages: faiss-cpu\n",
      "Successfully installed faiss-cpu-1.8.0.post1\n"
     ]
    }
   ],
   "source": [
    "!pip install faiss-cpu"
   ]
  },
  {
   "cell_type": "code",
   "execution_count": 2,
   "id": "c5b6aec5",
   "metadata": {},
   "outputs": [
    {
     "name": "stdout",
     "output_type": "stream",
     "text": [
      "Collecting sentence-transformers\n",
      "  Obtaining dependency information for sentence-transformers from https://files.pythonhosted.org/packages/58/4b/922436953394e1bfda05e4bf1fe0e80f609770f256c59a9df7a9254f3e0d/sentence_transformers-3.0.1-py3-none-any.whl.metadata\n",
      "  Downloading sentence_transformers-3.0.1-py3-none-any.whl.metadata (10 kB)\n",
      "Requirement already satisfied: transformers<5.0.0,>=4.34.0 in c:\\users\\this pc\\anaconda3\\envs\\tf-new\\lib\\site-packages (from sentence-transformers) (4.41.0)\n",
      "Requirement already satisfied: tqdm in c:\\users\\this pc\\anaconda3\\envs\\tf-new\\lib\\site-packages (from sentence-transformers) (4.66.4)\n",
      "Requirement already satisfied: torch>=1.11.0 in c:\\users\\this pc\\anaconda3\\envs\\tf-new\\lib\\site-packages (from sentence-transformers) (2.2.0)\n",
      "Requirement already satisfied: numpy in c:\\users\\this pc\\anaconda3\\envs\\tf-new\\lib\\site-packages (from sentence-transformers) (1.25.2)\n",
      "Requirement already satisfied: scikit-learn in c:\\users\\this pc\\anaconda3\\envs\\tf-new\\lib\\site-packages (from sentence-transformers) (1.3.1)\n",
      "Requirement already satisfied: scipy in c:\\users\\this pc\\anaconda3\\envs\\tf-new\\lib\\site-packages (from sentence-transformers) (1.11.1)\n",
      "Requirement already satisfied: huggingface-hub>=0.15.1 in c:\\users\\this pc\\anaconda3\\envs\\tf-new\\lib\\site-packages (from sentence-transformers) (0.23.1)\n",
      "Requirement already satisfied: Pillow in c:\\users\\this pc\\anaconda3\\envs\\tf-new\\lib\\site-packages (from sentence-transformers) (10.0.1)\n",
      "Requirement already satisfied: filelock in c:\\users\\this pc\\anaconda3\\envs\\tf-new\\lib\\site-packages (from huggingface-hub>=0.15.1->sentence-transformers) (3.13.1)\n",
      "Requirement already satisfied: fsspec>=2023.5.0 in c:\\users\\this pc\\anaconda3\\envs\\tf-new\\lib\\site-packages (from huggingface-hub>=0.15.1->sentence-transformers) (2024.5.0)\n",
      "Requirement already satisfied: packaging>=20.9 in c:\\users\\this pc\\anaconda3\\envs\\tf-new\\lib\\site-packages (from huggingface-hub>=0.15.1->sentence-transformers) (23.2)\n",
      "Requirement already satisfied: pyyaml>=5.1 in c:\\users\\this pc\\anaconda3\\envs\\tf-new\\lib\\site-packages (from huggingface-hub>=0.15.1->sentence-transformers) (6.0.1)\n",
      "Requirement already satisfied: requests in c:\\users\\this pc\\anaconda3\\envs\\tf-new\\lib\\site-packages (from huggingface-hub>=0.15.1->sentence-transformers) (2.31.0)\n",
      "Requirement already satisfied: typing-extensions>=3.7.4.3 in c:\\users\\this pc\\anaconda3\\envs\\tf-new\\lib\\site-packages (from huggingface-hub>=0.15.1->sentence-transformers) (4.7.1)\n",
      "Collecting typing-extensions>=3.7.4.3 (from huggingface-hub>=0.15.1->sentence-transformers)\n",
      "  Obtaining dependency information for typing-extensions>=3.7.4.3 from https://files.pythonhosted.org/packages/26/9f/ad63fc0248c5379346306f8668cda6e2e2e9c95e01216d2b8ffd9ff037d0/typing_extensions-4.12.2-py3-none-any.whl.metadata\n",
      "  Downloading typing_extensions-4.12.2-py3-none-any.whl.metadata (3.0 kB)\n",
      "Requirement already satisfied: sympy in c:\\users\\this pc\\anaconda3\\envs\\tf-new\\lib\\site-packages (from torch>=1.11.0->sentence-transformers) (1.12)\n",
      "Requirement already satisfied: networkx in c:\\users\\this pc\\anaconda3\\envs\\tf-new\\lib\\site-packages (from torch>=1.11.0->sentence-transformers) (3.1)\n",
      "Requirement already satisfied: jinja2 in c:\\users\\this pc\\anaconda3\\envs\\tf-new\\lib\\site-packages (from torch>=1.11.0->sentence-transformers) (3.1.2)\n",
      "Requirement already satisfied: colorama in c:\\users\\this pc\\anaconda3\\envs\\tf-new\\lib\\site-packages (from tqdm->sentence-transformers) (0.4.6)\n",
      "Requirement already satisfied: regex!=2019.12.17 in c:\\users\\this pc\\anaconda3\\envs\\tf-new\\lib\\site-packages (from transformers<5.0.0,>=4.34.0->sentence-transformers) (2024.5.15)\n",
      "Requirement already satisfied: tokenizers<0.20,>=0.19 in c:\\users\\this pc\\anaconda3\\envs\\tf-new\\lib\\site-packages (from transformers<5.0.0,>=4.34.0->sentence-transformers) (0.19.1)\n",
      "Requirement already satisfied: safetensors>=0.4.1 in c:\\users\\this pc\\anaconda3\\envs\\tf-new\\lib\\site-packages (from transformers<5.0.0,>=4.34.0->sentence-transformers) (0.4.3)\n",
      "Requirement already satisfied: joblib>=1.1.1 in c:\\users\\this pc\\anaconda3\\envs\\tf-new\\lib\\site-packages (from scikit-learn->sentence-transformers) (1.3.2)\n",
      "Requirement already satisfied: threadpoolctl>=2.0.0 in c:\\users\\this pc\\anaconda3\\envs\\tf-new\\lib\\site-packages (from scikit-learn->sentence-transformers) (3.2.0)\n",
      "Requirement already satisfied: MarkupSafe>=2.0 in c:\\users\\this pc\\anaconda3\\envs\\tf-new\\lib\\site-packages (from jinja2->torch>=1.11.0->sentence-transformers) (2.1.1)\n",
      "Requirement already satisfied: charset-normalizer<4,>=2 in c:\\users\\this pc\\anaconda3\\envs\\tf-new\\lib\\site-packages (from requests->huggingface-hub>=0.15.1->sentence-transformers) (3.3.2)\n",
      "Requirement already satisfied: idna<4,>=2.5 in c:\\users\\this pc\\anaconda3\\envs\\tf-new\\lib\\site-packages (from requests->huggingface-hub>=0.15.1->sentence-transformers) (3.4)\n",
      "Requirement already satisfied: urllib3<3,>=1.21.1 in c:\\users\\this pc\\anaconda3\\envs\\tf-new\\lib\\site-packages (from requests->huggingface-hub>=0.15.1->sentence-transformers) (2.2.2)\n",
      "Requirement already satisfied: certifi>=2017.4.17 in c:\\users\\this pc\\anaconda3\\envs\\tf-new\\lib\\site-packages (from requests->huggingface-hub>=0.15.1->sentence-transformers) (2024.2.2)\n",
      "Requirement already satisfied: mpmath>=0.19 in c:\\users\\this pc\\anaconda3\\envs\\tf-new\\lib\\site-packages (from sympy->torch>=1.11.0->sentence-transformers) (1.3.0)\n",
      "Downloading sentence_transformers-3.0.1-py3-none-any.whl (227 kB)\n",
      "   ---------------------------------------- 0.0/227.1 kB ? eta -:--:--\n",
      "   ---------------- ----------------------- 92.2/227.1 kB 2.6 MB/s eta 0:00:01\n",
      "   ------------------------------ --------- 174.1/227.1 kB 1.7 MB/s eta 0:00:01\n",
      "   ---------------------------------------  225.3/227.1 kB 2.0 MB/s eta 0:00:01\n",
      "   ---------------------------------------- 227.1/227.1 kB 1.4 MB/s eta 0:00:00\n",
      "Downloading typing_extensions-4.12.2-py3-none-any.whl (37 kB)\n",
      "Installing collected packages: typing-extensions, sentence-transformers\n",
      "  Attempting uninstall: typing-extensions\n",
      "    Found existing installation: typing_extensions 4.7.1\n",
      "    Uninstalling typing_extensions-4.7.1:\n",
      "      Successfully uninstalled typing_extensions-4.7.1\n",
      "Successfully installed sentence-transformers-3.0.1 typing-extensions-4.12.2\n"
     ]
    },
    {
     "name": "stderr",
     "output_type": "stream",
     "text": [
      "ERROR: pip's dependency resolver does not currently take into account all the packages that are installed. This behaviour is the source of the following dependency conflicts.\n",
      "tensorflow 2.10.0 requires libclang>=13.0.0, which is not installed.\n",
      "tensorflow 2.10.0 requires tensorflow-io-gcs-filesystem>=0.23.1, which is not installed.\n",
      "tensorflow 2.10.0 requires protobuf<3.20,>=3.9.2, but you have protobuf 3.20.3 which is incompatible.\n"
     ]
    }
   ],
   "source": [
    "!pip install sentence-transformers"
   ]
  },
  {
   "cell_type": "code",
   "execution_count": 1,
   "id": "9bc693db",
   "metadata": {},
   "outputs": [],
   "source": [
    "import pandas as pd"
   ]
  },
  {
   "cell_type": "code",
   "execution_count": 2,
   "id": "ec36ad69",
   "metadata": {},
   "outputs": [],
   "source": [
    "pd.set_option('display.max_colwidth',100)"
   ]
  },
  {
   "cell_type": "code",
   "execution_count": 3,
   "id": "adb76a4a",
   "metadata": {},
   "outputs": [
    {
     "data": {
      "text/plain": [
       "(8, 2)"
      ]
     },
     "execution_count": 3,
     "metadata": {},
     "output_type": "execute_result"
    }
   ],
   "source": [
    "df = pd.read_csv(\"sample_text.csv\")\n",
    "df.shape"
   ]
  },
  {
   "cell_type": "code",
   "execution_count": 4,
   "id": "5496e42e",
   "metadata": {},
   "outputs": [
    {
     "data": {
      "text/html": [
       "<div>\n",
       "<style scoped>\n",
       "    .dataframe tbody tr th:only-of-type {\n",
       "        vertical-align: middle;\n",
       "    }\n",
       "\n",
       "    .dataframe tbody tr th {\n",
       "        vertical-align: top;\n",
       "    }\n",
       "\n",
       "    .dataframe thead th {\n",
       "        text-align: right;\n",
       "    }\n",
       "</style>\n",
       "<table border=\"1\" class=\"dataframe\">\n",
       "  <thead>\n",
       "    <tr style=\"text-align: right;\">\n",
       "      <th></th>\n",
       "      <th>text</th>\n",
       "      <th>category</th>\n",
       "    </tr>\n",
       "  </thead>\n",
       "  <tbody>\n",
       "    <tr>\n",
       "      <th>0</th>\n",
       "      <td>Meditation and yoga can improve mental health</td>\n",
       "      <td>Health</td>\n",
       "    </tr>\n",
       "    <tr>\n",
       "      <th>1</th>\n",
       "      <td>Fruits, whole grains and vegetables helps control blood pressure</td>\n",
       "      <td>Health</td>\n",
       "    </tr>\n",
       "    <tr>\n",
       "      <th>2</th>\n",
       "      <td>These are the latest fashion trends for this week</td>\n",
       "      <td>Fashion</td>\n",
       "    </tr>\n",
       "    <tr>\n",
       "      <th>3</th>\n",
       "      <td>Vibrant color jeans for male are becoming a trend</td>\n",
       "      <td>Fashion</td>\n",
       "    </tr>\n",
       "    <tr>\n",
       "      <th>4</th>\n",
       "      <td>The concert starts at 7 PM tonight</td>\n",
       "      <td>Event</td>\n",
       "    </tr>\n",
       "    <tr>\n",
       "      <th>5</th>\n",
       "      <td>Navaratri dandiya program at Expo center in Mumbai this october</td>\n",
       "      <td>Event</td>\n",
       "    </tr>\n",
       "    <tr>\n",
       "      <th>6</th>\n",
       "      <td>Exciting vacation destinations for your next trip</td>\n",
       "      <td>Travel</td>\n",
       "    </tr>\n",
       "    <tr>\n",
       "      <th>7</th>\n",
       "      <td>Maldives and Srilanka are gaining popularity in terms of low budget vacation places</td>\n",
       "      <td>Travel</td>\n",
       "    </tr>\n",
       "  </tbody>\n",
       "</table>\n",
       "</div>"
      ],
      "text/plain": [
       "                                                                                  text  \\\n",
       "0                                        Meditation and yoga can improve mental health   \n",
       "1                     Fruits, whole grains and vegetables helps control blood pressure   \n",
       "2                                    These are the latest fashion trends for this week   \n",
       "3                                    Vibrant color jeans for male are becoming a trend   \n",
       "4                                                   The concert starts at 7 PM tonight   \n",
       "5                      Navaratri dandiya program at Expo center in Mumbai this october   \n",
       "6                                    Exciting vacation destinations for your next trip   \n",
       "7  Maldives and Srilanka are gaining popularity in terms of low budget vacation places   \n",
       "\n",
       "  category  \n",
       "0   Health  \n",
       "1   Health  \n",
       "2  Fashion  \n",
       "3  Fashion  \n",
       "4    Event  \n",
       "5    Event  \n",
       "6   Travel  \n",
       "7   Travel  "
      ]
     },
     "execution_count": 4,
     "metadata": {},
     "output_type": "execute_result"
    }
   ],
   "source": [
    "df"
   ]
  },
  {
   "cell_type": "markdown",
   "id": "3cee8579",
   "metadata": {},
   "source": [
    "# Source embeddings for text column"
   ]
  },
  {
   "cell_type": "code",
   "execution_count": 5,
   "id": "1f5e080d",
   "metadata": {},
   "outputs": [
    {
     "name": "stderr",
     "output_type": "stream",
     "text": [
      "C:\\Users\\This PC\\anaconda3\\envs\\tf-new\\lib\\site-packages\\sentence_transformers\\cross_encoder\\CrossEncoder.py:11: TqdmWarning: IProgress not found. Please update jupyter and ipywidgets. See https://ipywidgets.readthedocs.io/en/stable/user_install.html\n",
      "  from tqdm.autonotebook import tqdm, trange\n"
     ]
    }
   ],
   "source": [
    "from sentence_transformers import SentenceTransformer"
   ]
  },
  {
   "cell_type": "code",
   "execution_count": 6,
   "id": "fd0de1a5",
   "metadata": {},
   "outputs": [
    {
     "name": "stderr",
     "output_type": "stream",
     "text": [
      "C:\\Users\\This PC\\anaconda3\\envs\\tf-new\\lib\\site-packages\\huggingface_hub\\file_download.py:1132: FutureWarning: `resume_download` is deprecated and will be removed in version 1.0.0. Downloads always resume when possible. If you want to force a new download, use `force_download=True`.\n",
      "  warnings.warn(\n"
     ]
    },
    {
     "data": {
      "text/plain": [
       "(8, 768)"
      ]
     },
     "execution_count": 6,
     "metadata": {},
     "output_type": "execute_result"
    }
   ],
   "source": [
    "encoder = SentenceTransformer(\"all-mpnet-base-v2\")\n",
    "vectors = encoder.encode(df.text)\n",
    "vectors.shape"
   ]
  },
  {
   "cell_type": "code",
   "execution_count": 7,
   "id": "f92f0f7f",
   "metadata": {},
   "outputs": [
    {
     "name": "stdout",
     "output_type": "stream",
     "text": [
      "768\n"
     ]
    }
   ],
   "source": [
    "dim = vectors.shape[1]\n",
    "print(dim)"
   ]
  },
  {
   "cell_type": "markdown",
   "id": "47530bf0",
   "metadata": {},
   "source": [
    "# Build a FAISS index for vectors"
   ]
  },
  {
   "cell_type": "code",
   "execution_count": 8,
   "id": "ccb1dfd3",
   "metadata": {},
   "outputs": [
    {
     "data": {
      "text/plain": [
       "<faiss.swigfaiss_avx2.IndexFlatL2; proxy of <Swig Object of type 'faiss::IndexFlatL2 *' at 0x000002A0B37BBFC0> >"
      ]
     },
     "execution_count": 8,
     "metadata": {},
     "output_type": "execute_result"
    }
   ],
   "source": [
    "import faiss\n",
    "\n",
    "index = faiss.IndexFlatL2(dim)\n",
    "index"
   ]
  },
  {
   "cell_type": "code",
   "execution_count": 9,
   "id": "6bbee257",
   "metadata": {},
   "outputs": [],
   "source": [
    "index.add(vectors)"
   ]
  },
  {
   "cell_type": "markdown",
   "id": "b32fbfc7",
   "metadata": {},
   "source": [
    "# Encode search text using same encoder and normalize the output vector"
   ]
  },
  {
   "cell_type": "code",
   "execution_count": 10,
   "id": "d11af965",
   "metadata": {},
   "outputs": [
    {
     "data": {
      "text/plain": [
       "(768,)"
      ]
     },
     "execution_count": 10,
     "metadata": {},
     "output_type": "execute_result"
    }
   ],
   "source": [
    "search_query = \"I want to buy a polo t-shirt\"\n",
    "vec = encoder.encode(search_query)\n",
    "vec.shape"
   ]
  },
  {
   "cell_type": "code",
   "execution_count": 11,
   "id": "ed5a6d82",
   "metadata": {},
   "outputs": [
    {
     "data": {
      "text/plain": [
       "(1, 768)"
      ]
     },
     "execution_count": 11,
     "metadata": {},
     "output_type": "execute_result"
    }
   ],
   "source": [
    "import numpy as np\n",
    "svec = np.array(vec).reshape(1,-1)\n",
    "svec.shape"
   ]
  },
  {
   "cell_type": "code",
   "execution_count": 13,
   "id": "68f35641",
   "metadata": {},
   "outputs": [
    {
     "data": {
      "text/plain": [
       "array([[1.3844833, 1.4039092]], dtype=float32)"
      ]
     },
     "execution_count": 13,
     "metadata": {},
     "output_type": "execute_result"
    }
   ],
   "source": [
    "distances, I = index.search(svec, k=2)\n",
    "distances"
   ]
  },
  {
   "cell_type": "code",
   "execution_count": 14,
   "id": "672e17fd",
   "metadata": {},
   "outputs": [
    {
     "data": {
      "text/plain": [
       "array([[3, 2]], dtype=int64)"
      ]
     },
     "execution_count": 14,
     "metadata": {},
     "output_type": "execute_result"
    }
   ],
   "source": [
    "I"
   ]
  },
  {
   "cell_type": "code",
   "execution_count": 15,
   "id": "e0a0b13f",
   "metadata": {},
   "outputs": [
    {
     "data": {
      "text/html": [
       "<div>\n",
       "<style scoped>\n",
       "    .dataframe tbody tr th:only-of-type {\n",
       "        vertical-align: middle;\n",
       "    }\n",
       "\n",
       "    .dataframe tbody tr th {\n",
       "        vertical-align: top;\n",
       "    }\n",
       "\n",
       "    .dataframe thead th {\n",
       "        text-align: right;\n",
       "    }\n",
       "</style>\n",
       "<table border=\"1\" class=\"dataframe\">\n",
       "  <thead>\n",
       "    <tr style=\"text-align: right;\">\n",
       "      <th></th>\n",
       "      <th>text</th>\n",
       "      <th>category</th>\n",
       "    </tr>\n",
       "  </thead>\n",
       "  <tbody>\n",
       "    <tr>\n",
       "      <th>3</th>\n",
       "      <td>Vibrant color jeans for male are becoming a trend</td>\n",
       "      <td>Fashion</td>\n",
       "    </tr>\n",
       "    <tr>\n",
       "      <th>2</th>\n",
       "      <td>These are the latest fashion trends for this week</td>\n",
       "      <td>Fashion</td>\n",
       "    </tr>\n",
       "  </tbody>\n",
       "</table>\n",
       "</div>"
      ],
      "text/plain": [
       "                                                text category\n",
       "3  Vibrant color jeans for male are becoming a trend  Fashion\n",
       "2  These are the latest fashion trends for this week  Fashion"
      ]
     },
     "execution_count": 15,
     "metadata": {},
     "output_type": "execute_result"
    }
   ],
   "source": [
    "df.loc[I[0]]"
   ]
  },
  {
   "cell_type": "code",
   "execution_count": 16,
   "id": "3f75a976",
   "metadata": {},
   "outputs": [
    {
     "data": {
      "text/plain": [
       "[[3, 2]]"
      ]
     },
     "execution_count": 16,
     "metadata": {},
     "output_type": "execute_result"
    }
   ],
   "source": [
    "I.tolist()"
   ]
  },
  {
   "cell_type": "code",
   "execution_count": 17,
   "id": "d06b0b75",
   "metadata": {},
   "outputs": [
    {
     "data": {
      "text/plain": [
       "'I want to buy a polo t-shirt'"
      ]
     },
     "execution_count": 17,
     "metadata": {},
     "output_type": "execute_result"
    }
   ],
   "source": [
    "search_query"
   ]
  },
  {
   "cell_type": "code",
   "execution_count": null,
   "id": "2b1263e0",
   "metadata": {},
   "outputs": [],
   "source": []
  }
 ],
 "metadata": {
  "kernelspec": {
   "display_name": "Python 3 (ipykernel)",
   "language": "python",
   "name": "python3"
  },
  "language_info": {
   "codemirror_mode": {
    "name": "ipython",
    "version": 3
   },
   "file_extension": ".py",
   "mimetype": "text/x-python",
   "name": "python",
   "nbconvert_exporter": "python",
   "pygments_lexer": "ipython3",
   "version": "3.9.18"
  }
 },
 "nbformat": 4,
 "nbformat_minor": 5
}
