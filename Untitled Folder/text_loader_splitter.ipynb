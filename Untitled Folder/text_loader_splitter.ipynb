{
 "cells": [
  {
   "cell_type": "markdown",
   "id": "3a0b0d90",
   "metadata": {},
   "source": [
    "# Text Loader"
   ]
  },
  {
   "cell_type": "code",
   "execution_count": 1,
   "id": "57944acf",
   "metadata": {},
   "outputs": [],
   "source": [
    "from langchain.document_loaders import TextLoader"
   ]
  },
  {
   "cell_type": "code",
   "execution_count": 2,
   "id": "af670bda",
   "metadata": {},
   "outputs": [],
   "source": [
    "loader = TextLoader(\"nvda_news_1.txt\")\n",
    "data = loader.load() "
   ]
  },
  {
   "cell_type": "code",
   "execution_count": 3,
   "id": "66d11d8d",
   "metadata": {},
   "outputs": [
    {
     "data": {
      "text/plain": [
       "{'source': 'nvda_news_1.txt'}"
      ]
     },
     "execution_count": 3,
     "metadata": {},
     "output_type": "execute_result"
    }
   ],
   "source": [
    "data[0].metadata"
   ]
  },
  {
   "cell_type": "code",
   "execution_count": 7,
   "id": "8e7f7ee0",
   "metadata": {},
   "outputs": [
    {
     "data": {
      "text/plain": [
       "9"
      ]
     },
     "execution_count": 7,
     "metadata": {},
     "output_type": "execute_result"
    }
   ],
   "source": [
    "from langchain.document_loaders.csv_loader import CSVLoader\n",
    "loader = CSVLoader(\"movies.csv\", source_column=\"title\")\n",
    "data = loader.load()\n",
    "len(data)"
   ]
  },
  {
   "cell_type": "code",
   "execution_count": 10,
   "id": "f3fe68d4",
   "metadata": {},
   "outputs": [
    {
     "data": {
      "text/plain": [
       "'movie_id: 101\\ntitle: K.G.F: Chapter 2\\nindustry: Bollywood\\nrelease_year: 2022\\nimdb_rating: 8.4\\nstudio: Hombale Films\\nlanguage_id: 3\\nbudget: 1\\nrevenue: 12.5\\nunit: Billions\\ncurrency: INR'"
      ]
     },
     "execution_count": 10,
     "metadata": {},
     "output_type": "execute_result"
    }
   ],
   "source": [
    "data[0].page_content"
   ]
  },
  {
   "cell_type": "code",
   "execution_count": 12,
   "id": "8ff20dc7",
   "metadata": {},
   "outputs": [
    {
     "data": {
      "text/plain": [
       "{'source': 'K.G.F: Chapter 2', 'row': 0}"
      ]
     },
     "execution_count": 12,
     "metadata": {},
     "output_type": "execute_result"
    }
   ],
   "source": [
    "data[0].metadata"
   ]
  },
  {
   "cell_type": "markdown",
   "id": "26334d4e",
   "metadata": {},
   "source": [
    "# UnstructuredURLLoader"
   ]
  },
  {
   "cell_type": "code",
   "execution_count": 13,
   "id": "4d383785",
   "metadata": {},
   "outputs": [
    {
     "name": "stdout",
     "output_type": "stream",
     "text": [
      "Collecting unstructured-client\n",
      "  Obtaining dependency information for unstructured-client from https://files.pythonhosted.org/packages/f2/24/c429bc0db63563af3ed1c0e07e2a14d935f834ffd2e20e3d58e64cea1625/unstructured_client-0.23.8-py3-none-any.whl.metadata\n",
      "  Downloading unstructured_client-0.23.8-py3-none-any.whl.metadata (12 kB)\n",
      "Requirement already satisfied: certifi>=2023.7.22 in c:\\users\\this pc\\anaconda3\\envs\\tf-new\\lib\\site-packages (from unstructured-client) (2024.2.2)\n",
      "Collecting charset-normalizer>=3.2.0 (from unstructured-client)\n",
      "  Obtaining dependency information for charset-normalizer>=3.2.0 from https://files.pythonhosted.org/packages/2f/0e/d7303ccae9735ff8ff01e36705ad6233ad2002962e8668a970fc000c5e1b/charset_normalizer-3.3.2-cp39-cp39-win_amd64.whl.metadata\n",
      "  Downloading charset_normalizer-3.3.2-cp39-cp39-win_amd64.whl.metadata (34 kB)\n",
      "Requirement already satisfied: dataclasses-json>=0.6.4 in c:\\users\\this pc\\anaconda3\\envs\\tf-new\\lib\\site-packages (from unstructured-client) (0.6.6)\n",
      "Collecting deepdiff>=6.0 (from unstructured-client)\n",
      "  Obtaining dependency information for deepdiff>=6.0 from https://files.pythonhosted.org/packages/18/e6/d27d37dc55dbf40cdbd665aa52844b065ac760c9a02a02265f97ea7a4256/deepdiff-7.0.1-py3-none-any.whl.metadata\n",
      "  Downloading deepdiff-7.0.1-py3-none-any.whl.metadata (6.8 kB)\n",
      "Requirement already satisfied: httpx>=0.27.0 in c:\\users\\this pc\\anaconda3\\envs\\tf-new\\lib\\site-packages (from unstructured-client) (0.27.0)\n",
      "Requirement already satisfied: idna>=3.4 in c:\\users\\this pc\\anaconda3\\envs\\tf-new\\lib\\site-packages (from unstructured-client) (3.4)\n",
      "Collecting jsonpath-python>=1.0.6 (from unstructured-client)\n",
      "  Obtaining dependency information for jsonpath-python>=1.0.6 from https://files.pythonhosted.org/packages/16/8a/d63959f4eff03893a00e6e63592e3a9f15b9266ed8e0275ab77f8c7dbc94/jsonpath_python-1.0.6-py3-none-any.whl.metadata\n",
      "  Downloading jsonpath_python-1.0.6-py3-none-any.whl.metadata (12 kB)\n",
      "Requirement already satisfied: marshmallow>=3.19.0 in c:\\users\\this pc\\anaconda3\\envs\\tf-new\\lib\\site-packages (from unstructured-client) (3.21.2)\n",
      "Requirement already satisfied: mypy-extensions>=1.0.0 in c:\\users\\this pc\\anaconda3\\envs\\tf-new\\lib\\site-packages (from unstructured-client) (1.0.0)\n",
      "Collecting nest-asyncio>=1.6.0 (from unstructured-client)\n",
      "  Obtaining dependency information for nest-asyncio>=1.6.0 from https://files.pythonhosted.org/packages/a0/c4/c2971a3ba4c6103a3d10c4b0f24f461ddc027f0f09763220cf35ca1401b3/nest_asyncio-1.6.0-py3-none-any.whl.metadata\n",
      "  Downloading nest_asyncio-1.6.0-py3-none-any.whl.metadata (2.8 kB)\n",
      "Requirement already satisfied: packaging>=23.1 in c:\\users\\this pc\\anaconda3\\envs\\tf-new\\lib\\site-packages (from unstructured-client) (23.2)\n",
      "Collecting pypdf>=4.0 (from unstructured-client)\n",
      "  Obtaining dependency information for pypdf>=4.0 from https://files.pythonhosted.org/packages/c9/d1/450b19bbdbb2c802f554312c62ce2a2c0d8744fe14735bc70ad2803578c7/pypdf-4.2.0-py3-none-any.whl.metadata\n",
      "  Downloading pypdf-4.2.0-py3-none-any.whl.metadata (7.4 kB)\n",
      "Requirement already satisfied: python-dateutil>=2.8.2 in c:\\users\\this pc\\anaconda3\\envs\\tf-new\\lib\\site-packages (from unstructured-client) (2.8.2)\n",
      "Requirement already satisfied: requests>=2.31.0 in c:\\users\\this pc\\anaconda3\\envs\\tf-new\\lib\\site-packages (from unstructured-client) (2.31.0)\n",
      "Collecting requests-toolbelt>=1.0.0 (from unstructured-client)\n",
      "  Obtaining dependency information for requests-toolbelt>=1.0.0 from https://files.pythonhosted.org/packages/3f/51/d4db610ef29373b879047326cbf6fa98b6c1969d6f6dc423279de2b1be2c/requests_toolbelt-1.0.0-py2.py3-none-any.whl.metadata\n",
      "  Downloading requests_toolbelt-1.0.0-py2.py3-none-any.whl.metadata (14 kB)\n",
      "Requirement already satisfied: six>=1.16.0 in c:\\users\\this pc\\anaconda3\\envs\\tf-new\\lib\\site-packages (from unstructured-client) (1.16.0)\n",
      "Requirement already satisfied: typing-inspect>=0.9.0 in c:\\users\\this pc\\anaconda3\\envs\\tf-new\\lib\\site-packages (from unstructured-client) (0.9.0)\n",
      "Requirement already satisfied: typing-extensions>=4.7.1 in c:\\users\\this pc\\anaconda3\\envs\\tf-new\\lib\\site-packages (from unstructured-client) (4.7.1)\n",
      "Collecting urllib3>=1.26.18 (from unstructured-client)\n",
      "  Obtaining dependency information for urllib3>=1.26.18 from https://files.pythonhosted.org/packages/ca/1c/89ffc63a9605b583d5df2be791a27bc1a42b7c32bab68d3c8f2f73a98cd4/urllib3-2.2.2-py3-none-any.whl.metadata\n",
      "  Downloading urllib3-2.2.2-py3-none-any.whl.metadata (6.4 kB)\n",
      "Collecting ordered-set<4.2.0,>=4.1.0 (from deepdiff>=6.0->unstructured-client)\n",
      "  Obtaining dependency information for ordered-set<4.2.0,>=4.1.0 from https://files.pythonhosted.org/packages/33/55/af02708f230eb77084a299d7b08175cff006dea4f2721074b92cdb0296c0/ordered_set-4.1.0-py3-none-any.whl.metadata\n",
      "  Downloading ordered_set-4.1.0-py3-none-any.whl.metadata (5.3 kB)\n",
      "Requirement already satisfied: anyio in c:\\users\\this pc\\anaconda3\\envs\\tf-new\\lib\\site-packages (from httpx>=0.27.0->unstructured-client) (3.5.0)\n",
      "Requirement already satisfied: httpcore==1.* in c:\\users\\this pc\\anaconda3\\envs\\tf-new\\lib\\site-packages (from httpx>=0.27.0->unstructured-client) (1.0.5)\n",
      "Requirement already satisfied: sniffio in c:\\users\\this pc\\anaconda3\\envs\\tf-new\\lib\\site-packages (from httpx>=0.27.0->unstructured-client) (1.2.0)\n",
      "Requirement already satisfied: h11<0.15,>=0.13 in c:\\users\\this pc\\anaconda3\\envs\\tf-new\\lib\\site-packages (from httpcore==1.*->httpx>=0.27.0->unstructured-client) (0.14.0)\n",
      "Downloading unstructured_client-0.23.8-py3-none-any.whl (40 kB)\n",
      "   ---------------------------------------- 0.0/41.0 kB ? eta -:--:--\n",
      "   ---------------------------------------- 41.0/41.0 kB 990.9 kB/s eta 0:00:00\n",
      "Downloading charset_normalizer-3.3.2-cp39-cp39-win_amd64.whl (100 kB)\n",
      "   ---------------------------------------- 0.0/100.4 kB ? eta -:--:--\n",
      "   ------------------------------------ --- 92.2/100.4 kB 2.6 MB/s eta 0:00:01\n",
      "   ---------------------------------------- 100.4/100.4 kB 1.2 MB/s eta 0:00:00\n",
      "Downloading deepdiff-7.0.1-py3-none-any.whl (80 kB)\n",
      "   ---------------------------------------- 0.0/80.8 kB ? eta -:--:--\n",
      "   ----------------------------------- ---- 71.7/80.8 kB 1.9 MB/s eta 0:00:01\n",
      "   ---------------------------------------- 80.8/80.8 kB 750.9 kB/s eta 0:00:00\n",
      "Downloading jsonpath_python-1.0.6-py3-none-any.whl (7.6 kB)\n",
      "Downloading nest_asyncio-1.6.0-py3-none-any.whl (5.2 kB)\n",
      "Downloading pypdf-4.2.0-py3-none-any.whl (290 kB)\n",
      "   ---------------------------------------- 0.0/290.4 kB ? eta -:--:--\n",
      "   --------- ------------------------------ 71.7/290.4 kB 2.0 MB/s eta 0:00:01\n",
      "   -------------------------- ------------- 194.6/290.4 kB 3.0 MB/s eta 0:00:01\n",
      "   ------------------------------------ --- 266.2/290.4 kB 2.8 MB/s eta 0:00:01\n",
      "   ---------------------------------------- 290.4/290.4 kB 2.0 MB/s eta 0:00:00\n",
      "Downloading requests_toolbelt-1.0.0-py2.py3-none-any.whl (54 kB)\n",
      "   ---------------------------------------- 0.0/54.5 kB ? eta -:--:--\n",
      "   ------------------------------------- -- 51.2/54.5 kB 2.6 MB/s eta 0:00:01\n",
      "   ---------------------------------------- 54.5/54.5 kB 713.6 kB/s eta 0:00:00\n",
      "Downloading urllib3-2.2.2-py3-none-any.whl (121 kB)\n",
      "   ---------------------------------------- 0.0/121.4 kB ? eta -:--:--\n",
      "   ------------------------------------- -- 112.6/121.4 kB 3.3 MB/s eta 0:00:01\n",
      "   ---------------------------------------- 121.4/121.4 kB 1.8 MB/s eta 0:00:00\n",
      "Downloading ordered_set-4.1.0-py3-none-any.whl (7.6 kB)\n",
      "Installing collected packages: urllib3, pypdf, ordered-set, nest-asyncio, jsonpath-python, charset-normalizer, deepdiff, requests-toolbelt, unstructured-client\n",
      "  Attempting uninstall: urllib3\n",
      "    Found existing installation: urllib3 1.26.16\n",
      "    Uninstalling urllib3-1.26.16:\n",
      "      Successfully uninstalled urllib3-1.26.16\n",
      "  Attempting uninstall: nest-asyncio\n",
      "    Found existing installation: nest-asyncio 1.5.6\n",
      "    Uninstalling nest-asyncio-1.5.6:\n",
      "      Successfully uninstalled nest-asyncio-1.5.6\n",
      "  Attempting uninstall: charset-normalizer\n",
      "    Found existing installation: charset-normalizer 2.0.4\n",
      "    Uninstalling charset-normalizer-2.0.4:\n",
      "      Successfully uninstalled charset-normalizer-2.0.4\n",
      "Successfully installed charset-normalizer-3.3.2 deepdiff-7.0.1 jsonpath-python-1.0.6 nest-asyncio-1.6.0 ordered-set-4.1.0 pypdf-4.2.0 requests-toolbelt-1.0.0 unstructured-client-0.23.8 urllib3-2.2.2\n"
     ]
    },
    {
     "name": "stderr",
     "output_type": "stream",
     "text": [
      "ERROR: pip's dependency resolver does not currently take into account all the packages that are installed. This behaviour is the source of the following dependency conflicts.\n",
      "tensorflow 2.10.0 requires libclang>=13.0.0, which is not installed.\n",
      "tensorflow 2.10.0 requires tensorflow-io-gcs-filesystem>=0.23.1, which is not installed.\n",
      "google-auth 2.22.0 requires urllib3<2.0, but you have urllib3 2.2.2 which is incompatible.\n",
      "tensorboard 2.10.0 requires protobuf<3.20,>=3.9.2, but you have protobuf 3.20.3 which is incompatible.\n",
      "tensorflow 2.10.0 requires protobuf<3.20,>=3.9.2, but you have protobuf 3.20.3 which is incompatible.\n"
     ]
    }
   ],
   "source": [
    "!pip install unstructured-client"
   ]
  },
  {
   "cell_type": "code",
   "execution_count": 14,
   "id": "f6f23f27",
   "metadata": {},
   "outputs": [
    {
     "name": "stdout",
     "output_type": "stream",
     "text": [
      "Collecting unstructured\n",
      "  Obtaining dependency information for unstructured from https://files.pythonhosted.org/packages/62/e2/4356f12efd277fac39e80dfe1e00c9e9798ea9ebb6159acb0ec6f5af938b/unstructured-0.14.9-py3-none-any.whl.metadata\n",
      "  Downloading unstructured-0.14.9-py3-none-any.whl.metadata (28 kB)\n",
      "Requirement already satisfied: chardet in c:\\users\\this pc\\anaconda3\\envs\\tf-new\\lib\\site-packages (from unstructured) (4.0.0)\n",
      "Collecting filetype (from unstructured)\n",
      "  Obtaining dependency information for filetype from https://files.pythonhosted.org/packages/18/79/1b8fa1bb3568781e84c9200f951c735f3f157429f44be0495da55894d620/filetype-1.2.0-py2.py3-none-any.whl.metadata\n",
      "  Downloading filetype-1.2.0-py2.py3-none-any.whl.metadata (6.5 kB)\n",
      "Collecting python-magic (from unstructured)\n",
      "  Obtaining dependency information for python-magic from https://files.pythonhosted.org/packages/6c/73/9f872cb81fc5c3bb48f7227872c28975f998f3e7c2b1c16e95e6432bbb90/python_magic-0.4.27-py2.py3-none-any.whl.metadata\n",
      "  Downloading python_magic-0.4.27-py2.py3-none-any.whl.metadata (5.8 kB)\n",
      "Requirement already satisfied: lxml in c:\\users\\this pc\\anaconda3\\envs\\tf-new\\lib\\site-packages (from unstructured) (4.9.3)\n",
      "Collecting nltk (from unstructured)\n",
      "  Obtaining dependency information for nltk from https://files.pythonhosted.org/packages/a6/0a/0d20d2c0f16be91b9fa32a77b76c60f9baf6eba419e5ef5deca17af9c582/nltk-3.8.1-py3-none-any.whl.metadata\n",
      "  Downloading nltk-3.8.1-py3-none-any.whl.metadata (2.8 kB)\n",
      "Collecting tabulate (from unstructured)\n",
      "  Obtaining dependency information for tabulate from https://files.pythonhosted.org/packages/40/44/4a5f08c96eb108af5cb50b41f76142f0afa346dfa99d5296fe7202a11854/tabulate-0.9.0-py3-none-any.whl.metadata\n",
      "  Downloading tabulate-0.9.0-py3-none-any.whl.metadata (34 kB)\n",
      "Requirement already satisfied: requests in c:\\users\\this pc\\anaconda3\\envs\\tf-new\\lib\\site-packages (from unstructured) (2.31.0)\n",
      "Requirement already satisfied: beautifulsoup4 in c:\\users\\this pc\\anaconda3\\envs\\tf-new\\lib\\site-packages (from unstructured) (4.12.2)\n",
      "Collecting emoji (from unstructured)\n",
      "  Obtaining dependency information for emoji from https://files.pythonhosted.org/packages/e6/90/20ad30babfa8f2b5ab46281d8e17bdfdbb3ac294cda14d525b9c2d958846/emoji-2.12.1-py3-none-any.whl.metadata\n",
      "  Downloading emoji-2.12.1-py3-none-any.whl.metadata (5.4 kB)\n",
      "Requirement already satisfied: dataclasses-json in c:\\users\\this pc\\anaconda3\\envs\\tf-new\\lib\\site-packages (from unstructured) (0.6.6)\n",
      "Collecting python-iso639 (from unstructured)\n",
      "  Obtaining dependency information for python-iso639 from https://files.pythonhosted.org/packages/01/08/5e649cf18dec750d498c53c6c8eb1d9790752ebd50fa7f7e69cc0c277cfe/python_iso639-2024.4.27-py3-none-any.whl.metadata\n",
      "  Downloading python_iso639-2024.4.27-py3-none-any.whl.metadata (13 kB)\n",
      "Collecting langdetect (from unstructured)\n",
      "  Downloading langdetect-1.0.9.tar.gz (981 kB)\n",
      "     ---------------------------------------- 0.0/981.5 kB ? eta -:--:--\n",
      "     --- ----------------------------------- 81.9/981.5 kB 2.3 MB/s eta 0:00:01\n",
      "     ------- ------------------------------ 184.3/981.5 kB 1.9 MB/s eta 0:00:01\n",
      "     --------- ---------------------------- 245.8/981.5 kB 1.7 MB/s eta 0:00:01\n",
      "     ------------- ------------------------ 348.2/981.5 kB 1.8 MB/s eta 0:00:01\n",
      "     ----------------- -------------------- 440.3/981.5 kB 1.8 MB/s eta 0:00:01\n",
      "     ----------------- -------------------- 460.8/981.5 kB 1.6 MB/s eta 0:00:01\n",
      "     --------------------- ---------------- 542.7/981.5 kB 1.6 MB/s eta 0:00:01\n",
      "     ------------------------ ------------- 624.6/981.5 kB 1.6 MB/s eta 0:00:01\n",
      "     ---------------------------- --------- 737.3/981.5 kB 1.8 MB/s eta 0:00:01\n",
      "     --------------------------------- ---- 870.4/981.5 kB 1.8 MB/s eta 0:00:01\n",
      "     -------------------------------------  972.8/981.5 kB 1.9 MB/s eta 0:00:01\n",
      "     -------------------------------------  972.8/981.5 kB 1.9 MB/s eta 0:00:01\n",
      "     -------------------------------------  972.8/981.5 kB 1.9 MB/s eta 0:00:01\n",
      "     -------------------------------------- 981.5/981.5 kB 1.6 MB/s eta 0:00:00\n",
      "  Preparing metadata (setup.py): started\n",
      "  Preparing metadata (setup.py): finished with status 'done'\n",
      "Requirement already satisfied: numpy<2 in c:\\users\\this pc\\anaconda3\\envs\\tf-new\\lib\\site-packages (from unstructured) (1.25.2)\n",
      "Collecting rapidfuzz (from unstructured)\n",
      "  Obtaining dependency information for rapidfuzz from https://files.pythonhosted.org/packages/83/56/d70f4742e23b53b2b714cc74986acab126730d95a9c38049dd6acea88041/rapidfuzz-3.9.4-cp39-cp39-win_amd64.whl.metadata\n",
      "  Downloading rapidfuzz-3.9.4-cp39-cp39-win_amd64.whl.metadata (12 kB)\n",
      "Collecting backoff (from unstructured)\n",
      "  Obtaining dependency information for backoff from https://files.pythonhosted.org/packages/df/73/b6e24bd22e6720ca8ee9a85a0c4a2971af8497d8f3193fa05390cbd46e09/backoff-2.2.1-py3-none-any.whl.metadata\n",
      "  Downloading backoff-2.2.1-py3-none-any.whl.metadata (14 kB)\n",
      "Requirement already satisfied: typing-extensions in c:\\users\\this pc\\anaconda3\\envs\\tf-new\\lib\\site-packages (from unstructured) (4.7.1)\n",
      "Requirement already satisfied: unstructured-client in c:\\users\\this pc\\anaconda3\\envs\\tf-new\\lib\\site-packages (from unstructured) (0.23.8)\n",
      "Requirement already satisfied: wrapt in c:\\users\\this pc\\anaconda3\\envs\\tf-new\\lib\\site-packages (from unstructured) (1.14.1)\n",
      "Requirement already satisfied: tqdm in c:\\users\\this pc\\anaconda3\\envs\\tf-new\\lib\\site-packages (from unstructured) (4.66.4)\n",
      "Requirement already satisfied: soupsieve>1.2 in c:\\users\\this pc\\anaconda3\\envs\\tf-new\\lib\\site-packages (from beautifulsoup4->unstructured) (2.4)\n",
      "Requirement already satisfied: marshmallow<4.0.0,>=3.18.0 in c:\\users\\this pc\\anaconda3\\envs\\tf-new\\lib\\site-packages (from dataclasses-json->unstructured) (3.21.2)\n",
      "Requirement already satisfied: typing-inspect<1,>=0.4.0 in c:\\users\\this pc\\anaconda3\\envs\\tf-new\\lib\\site-packages (from dataclasses-json->unstructured) (0.9.0)\n",
      "Requirement already satisfied: six in c:\\users\\this pc\\anaconda3\\envs\\tf-new\\lib\\site-packages (from langdetect->unstructured) (1.16.0)\n",
      "Requirement already satisfied: click in c:\\users\\this pc\\anaconda3\\envs\\tf-new\\lib\\site-packages (from nltk->unstructured) (8.0.4)\n",
      "Requirement already satisfied: joblib in c:\\users\\this pc\\anaconda3\\envs\\tf-new\\lib\\site-packages (from nltk->unstructured) (1.3.2)\n",
      "Requirement already satisfied: regex>=2021.8.3 in c:\\users\\this pc\\anaconda3\\envs\\tf-new\\lib\\site-packages (from nltk->unstructured) (2024.5.15)\n",
      "Requirement already satisfied: charset-normalizer<4,>=2 in c:\\users\\this pc\\anaconda3\\envs\\tf-new\\lib\\site-packages (from requests->unstructured) (3.3.2)\n",
      "Requirement already satisfied: idna<4,>=2.5 in c:\\users\\this pc\\anaconda3\\envs\\tf-new\\lib\\site-packages (from requests->unstructured) (3.4)\n",
      "Requirement already satisfied: urllib3<3,>=1.21.1 in c:\\users\\this pc\\anaconda3\\envs\\tf-new\\lib\\site-packages (from requests->unstructured) (2.2.2)\n",
      "Requirement already satisfied: certifi>=2017.4.17 in c:\\users\\this pc\\anaconda3\\envs\\tf-new\\lib\\site-packages (from requests->unstructured) (2024.2.2)\n",
      "Requirement already satisfied: colorama in c:\\users\\this pc\\anaconda3\\envs\\tf-new\\lib\\site-packages (from tqdm->unstructured) (0.4.6)\n",
      "Requirement already satisfied: deepdiff>=6.0 in c:\\users\\this pc\\anaconda3\\envs\\tf-new\\lib\\site-packages (from unstructured-client->unstructured) (7.0.1)\n",
      "Requirement already satisfied: httpx>=0.27.0 in c:\\users\\this pc\\anaconda3\\envs\\tf-new\\lib\\site-packages (from unstructured-client->unstructured) (0.27.0)\n",
      "Requirement already satisfied: jsonpath-python>=1.0.6 in c:\\users\\this pc\\anaconda3\\envs\\tf-new\\lib\\site-packages (from unstructured-client->unstructured) (1.0.6)\n",
      "Requirement already satisfied: mypy-extensions>=1.0.0 in c:\\users\\this pc\\anaconda3\\envs\\tf-new\\lib\\site-packages (from unstructured-client->unstructured) (1.0.0)\n",
      "Requirement already satisfied: nest-asyncio>=1.6.0 in c:\\users\\this pc\\anaconda3\\envs\\tf-new\\lib\\site-packages (from unstructured-client->unstructured) (1.6.0)\n",
      "Requirement already satisfied: packaging>=23.1 in c:\\users\\this pc\\anaconda3\\envs\\tf-new\\lib\\site-packages (from unstructured-client->unstructured) (23.2)\n",
      "Requirement already satisfied: pypdf>=4.0 in c:\\users\\this pc\\anaconda3\\envs\\tf-new\\lib\\site-packages (from unstructured-client->unstructured) (4.2.0)\n",
      "Requirement already satisfied: python-dateutil>=2.8.2 in c:\\users\\this pc\\anaconda3\\envs\\tf-new\\lib\\site-packages (from unstructured-client->unstructured) (2.8.2)\n",
      "Requirement already satisfied: requests-toolbelt>=1.0.0 in c:\\users\\this pc\\anaconda3\\envs\\tf-new\\lib\\site-packages (from unstructured-client->unstructured) (1.0.0)\n",
      "Requirement already satisfied: ordered-set<4.2.0,>=4.1.0 in c:\\users\\this pc\\anaconda3\\envs\\tf-new\\lib\\site-packages (from deepdiff>=6.0->unstructured-client->unstructured) (4.1.0)\n",
      "Requirement already satisfied: anyio in c:\\users\\this pc\\anaconda3\\envs\\tf-new\\lib\\site-packages (from httpx>=0.27.0->unstructured-client->unstructured) (3.5.0)\n",
      "Requirement already satisfied: httpcore==1.* in c:\\users\\this pc\\anaconda3\\envs\\tf-new\\lib\\site-packages (from httpx>=0.27.0->unstructured-client->unstructured) (1.0.5)\n",
      "Requirement already satisfied: sniffio in c:\\users\\this pc\\anaconda3\\envs\\tf-new\\lib\\site-packages (from httpx>=0.27.0->unstructured-client->unstructured) (1.2.0)\n",
      "Requirement already satisfied: h11<0.15,>=0.13 in c:\\users\\this pc\\anaconda3\\envs\\tf-new\\lib\\site-packages (from httpcore==1.*->httpx>=0.27.0->unstructured-client->unstructured) (0.14.0)\n",
      "Downloading unstructured-0.14.9-py3-none-any.whl (2.1 MB)\n",
      "   ---------------------------------------- 0.0/2.1 MB ? eta -:--:--\n",
      "   -- ------------------------------------- 0.1/2.1 MB 2.8 MB/s eta 0:00:01\n",
      "   ----- ---------------------------------- 0.3/2.1 MB 3.2 MB/s eta 0:00:01\n",
      "   ------- -------------------------------- 0.4/2.1 MB 3.4 MB/s eta 0:00:01\n",
      "   --------- ------------------------------ 0.5/2.1 MB 2.6 MB/s eta 0:00:01\n",
      "   ----------- ---------------------------- 0.6/2.1 MB 2.7 MB/s eta 0:00:01\n",
      "   -------------- ------------------------- 0.7/2.1 MB 2.6 MB/s eta 0:00:01\n",
      "   ----------------- ---------------------- 0.9/2.1 MB 2.7 MB/s eta 0:00:01\n",
      "   -------------------- ------------------- 1.1/2.1 MB 2.8 MB/s eta 0:00:01\n",
      "   ------------------------ --------------- 1.2/2.1 MB 2.9 MB/s eta 0:00:01\n",
      "   --------------------------- ------------ 1.4/2.1 MB 3.1 MB/s eta 0:00:01\n",
      "   --------------------------- ------------ 1.4/2.1 MB 3.1 MB/s eta 0:00:01\n",
      "   ------------------------------ --------- 1.5/2.1 MB 2.8 MB/s eta 0:00:01\n",
      "   ---------------------------------- ----- 1.8/2.1 MB 3.0 MB/s eta 0:00:01\n",
      "   -------------------------------------- - 2.0/2.1 MB 3.1 MB/s eta 0:00:01\n",
      "   ---------------------------------------  2.0/2.1 MB 3.0 MB/s eta 0:00:01\n",
      "   ---------------------------------------  2.0/2.1 MB 3.0 MB/s eta 0:00:01\n",
      "   ---------------------------------------  2.0/2.1 MB 3.0 MB/s eta 0:00:01\n",
      "   ---------------------------------------  2.0/2.1 MB 3.0 MB/s eta 0:00:01\n",
      "   ---------------------------------------- 2.1/2.1 MB 2.4 MB/s eta 0:00:00\n",
      "Downloading backoff-2.2.1-py3-none-any.whl (15 kB)\n",
      "Downloading emoji-2.12.1-py3-none-any.whl (431 kB)\n",
      "   ---------------------------------------- 0.0/431.4 kB ? eta -:--:--\n",
      "   ---------------------------- ----------- 307.2/431.4 kB 9.3 MB/s eta 0:00:01\n",
      "   ---------------------------------------  430.1/431.4 kB 6.7 MB/s eta 0:00:01\n",
      "   ---------------------------------------- 431.4/431.4 kB 3.4 MB/s eta 0:00:00\n",
      "Downloading filetype-1.2.0-py2.py3-none-any.whl (19 kB)\n",
      "Using cached nltk-3.8.1-py3-none-any.whl (1.5 MB)\n",
      "Downloading python_iso639-2024.4.27-py3-none-any.whl (274 kB)\n",
      "   ---------------------------------------- 0.0/274.7 kB ? eta -:--:--\n",
      "   -------------------------------------- - 266.2/274.7 kB 8.3 MB/s eta 0:00:01\n",
      "   -------------------------------------- - 266.2/274.7 kB 8.3 MB/s eta 0:00:01\n",
      "   -------------------------------------- - 266.2/274.7 kB 8.3 MB/s eta 0:00:01\n",
      "   ---------------------------------------- 274.7/274.7 kB 1.9 MB/s eta 0:00:00\n",
      "Downloading python_magic-0.4.27-py2.py3-none-any.whl (13 kB)\n",
      "Downloading rapidfuzz-3.9.4-cp39-cp39-win_amd64.whl (1.6 MB)\n",
      "   ---------------------------------------- 0.0/1.6 MB ? eta -:--:--\n",
      "   ------- -------------------------------- 0.3/1.6 MB 6.3 MB/s eta 0:00:01\n",
      "   ------------- -------------------------- 0.6/1.6 MB 5.9 MB/s eta 0:00:01\n",
      "   ------------------- -------------------- 0.8/1.6 MB 6.1 MB/s eta 0:00:01\n",
      "   --------------------------- ------------ 1.1/1.6 MB 5.9 MB/s eta 0:00:01\n",
      "   ------------------------------- -------- 1.3/1.6 MB 5.4 MB/s eta 0:00:01\n",
      "   ----------------------------------- ---- 1.4/1.6 MB 5.3 MB/s eta 0:00:01\n",
      "   ---------------------------------------  1.6/1.6 MB 5.0 MB/s eta 0:00:01\n",
      "   ---------------------------------------  1.6/1.6 MB 4.9 MB/s eta 0:00:01\n",
      "   ---------------------------------------  1.6/1.6 MB 4.9 MB/s eta 0:00:01\n",
      "   ---------------------------------------  1.6/1.6 MB 4.9 MB/s eta 0:00:01\n",
      "   ---------------------------------------- 1.6/1.6 MB 3.4 MB/s eta 0:00:00\n",
      "Downloading tabulate-0.9.0-py3-none-any.whl (35 kB)\n",
      "Building wheels for collected packages: langdetect\n",
      "  Building wheel for langdetect (setup.py): started\n",
      "  Building wheel for langdetect (setup.py): finished with status 'done'\n",
      "  Created wheel for langdetect: filename=langdetect-1.0.9-py3-none-any.whl size=993253 sha256=22c3304e8f0d70d170a3f166aa1e60f436c7a3d3b6d2ea2dc3a316fb27dd7676\n",
      "  Stored in directory: c:\\users\\this pc\\appdata\\local\\pip\\cache\\wheels\\d1\\c1\\d9\\7e068de779d863bc8f8fc9467d85e25cfe47fa5051fff1a1bb\n",
      "Successfully built langdetect\n",
      "Installing collected packages: filetype, tabulate, rapidfuzz, python-magic, python-iso639, langdetect, emoji, backoff, nltk, unstructured\n",
      "Successfully installed backoff-2.2.1 emoji-2.12.1 filetype-1.2.0 langdetect-1.0.9 nltk-3.8.1 python-iso639-2024.4.27 python-magic-0.4.27 rapidfuzz-3.9.4 tabulate-0.9.0 unstructured-0.14.9\n"
     ]
    }
   ],
   "source": [
    "!pip install unstructured"
   ]
  },
  {
   "cell_type": "code",
   "execution_count": 15,
   "id": "ea527734",
   "metadata": {},
   "outputs": [
    {
     "name": "stdout",
     "output_type": "stream",
     "text": [
      "Requirement already satisfied: unstructured in c:\\users\\this pc\\anaconda3\\envs\\tf-new\\lib\\site-packages (0.14.9)\n",
      "Collecting libmagic\n",
      "  Downloading libmagic-1.0.tar.gz (3.7 kB)\n",
      "  Preparing metadata (setup.py): started\n",
      "  Preparing metadata (setup.py): finished with status 'done'\n",
      "Requirement already satisfied: python-magic in c:\\users\\this pc\\anaconda3\\envs\\tf-new\\lib\\site-packages (0.4.27)\n",
      "Collecting python-magic-bin\n",
      "  Obtaining dependency information for python-magic-bin from https://files.pythonhosted.org/packages/07/c2/094e3d62b906d952537196603a23aec4bcd7c6126bf80eb14e6f9f4be3a2/python_magic_bin-0.4.14-py2.py3-none-win_amd64.whl.metadata\n",
      "  Downloading python_magic_bin-0.4.14-py2.py3-none-win_amd64.whl.metadata (710 bytes)\n",
      "Requirement already satisfied: chardet in c:\\users\\this pc\\anaconda3\\envs\\tf-new\\lib\\site-packages (from unstructured) (4.0.0)\n",
      "Requirement already satisfied: filetype in c:\\users\\this pc\\anaconda3\\envs\\tf-new\\lib\\site-packages (from unstructured) (1.2.0)\n",
      "Requirement already satisfied: lxml in c:\\users\\this pc\\anaconda3\\envs\\tf-new\\lib\\site-packages (from unstructured) (4.9.3)\n",
      "Requirement already satisfied: nltk in c:\\users\\this pc\\anaconda3\\envs\\tf-new\\lib\\site-packages (from unstructured) (3.8.1)\n",
      "Requirement already satisfied: tabulate in c:\\users\\this pc\\anaconda3\\envs\\tf-new\\lib\\site-packages (from unstructured) (0.9.0)\n",
      "Requirement already satisfied: requests in c:\\users\\this pc\\anaconda3\\envs\\tf-new\\lib\\site-packages (from unstructured) (2.31.0)\n",
      "Requirement already satisfied: beautifulsoup4 in c:\\users\\this pc\\anaconda3\\envs\\tf-new\\lib\\site-packages (from unstructured) (4.12.2)\n",
      "Requirement already satisfied: emoji in c:\\users\\this pc\\anaconda3\\envs\\tf-new\\lib\\site-packages (from unstructured) (2.12.1)\n",
      "Requirement already satisfied: dataclasses-json in c:\\users\\this pc\\anaconda3\\envs\\tf-new\\lib\\site-packages (from unstructured) (0.6.6)\n",
      "Requirement already satisfied: python-iso639 in c:\\users\\this pc\\anaconda3\\envs\\tf-new\\lib\\site-packages (from unstructured) (2024.4.27)\n",
      "Requirement already satisfied: langdetect in c:\\users\\this pc\\anaconda3\\envs\\tf-new\\lib\\site-packages (from unstructured) (1.0.9)\n",
      "Requirement already satisfied: numpy<2 in c:\\users\\this pc\\anaconda3\\envs\\tf-new\\lib\\site-packages (from unstructured) (1.25.2)\n",
      "Requirement already satisfied: rapidfuzz in c:\\users\\this pc\\anaconda3\\envs\\tf-new\\lib\\site-packages (from unstructured) (3.9.4)\n",
      "Requirement already satisfied: backoff in c:\\users\\this pc\\anaconda3\\envs\\tf-new\\lib\\site-packages (from unstructured) (2.2.1)\n",
      "Requirement already satisfied: typing-extensions in c:\\users\\this pc\\anaconda3\\envs\\tf-new\\lib\\site-packages (from unstructured) (4.7.1)\n",
      "Requirement already satisfied: unstructured-client in c:\\users\\this pc\\anaconda3\\envs\\tf-new\\lib\\site-packages (from unstructured) (0.23.8)\n",
      "Requirement already satisfied: wrapt in c:\\users\\this pc\\anaconda3\\envs\\tf-new\\lib\\site-packages (from unstructured) (1.14.1)\n",
      "Requirement already satisfied: tqdm in c:\\users\\this pc\\anaconda3\\envs\\tf-new\\lib\\site-packages (from unstructured) (4.66.4)\n",
      "Requirement already satisfied: soupsieve>1.2 in c:\\users\\this pc\\anaconda3\\envs\\tf-new\\lib\\site-packages (from beautifulsoup4->unstructured) (2.4)\n",
      "Requirement already satisfied: marshmallow<4.0.0,>=3.18.0 in c:\\users\\this pc\\anaconda3\\envs\\tf-new\\lib\\site-packages (from dataclasses-json->unstructured) (3.21.2)\n",
      "Requirement already satisfied: typing-inspect<1,>=0.4.0 in c:\\users\\this pc\\anaconda3\\envs\\tf-new\\lib\\site-packages (from dataclasses-json->unstructured) (0.9.0)\n",
      "Requirement already satisfied: six in c:\\users\\this pc\\anaconda3\\envs\\tf-new\\lib\\site-packages (from langdetect->unstructured) (1.16.0)\n",
      "Requirement already satisfied: click in c:\\users\\this pc\\anaconda3\\envs\\tf-new\\lib\\site-packages (from nltk->unstructured) (8.0.4)\n",
      "Requirement already satisfied: joblib in c:\\users\\this pc\\anaconda3\\envs\\tf-new\\lib\\site-packages (from nltk->unstructured) (1.3.2)\n",
      "Requirement already satisfied: regex>=2021.8.3 in c:\\users\\this pc\\anaconda3\\envs\\tf-new\\lib\\site-packages (from nltk->unstructured) (2024.5.15)\n",
      "Requirement already satisfied: charset-normalizer<4,>=2 in c:\\users\\this pc\\anaconda3\\envs\\tf-new\\lib\\site-packages (from requests->unstructured) (3.3.2)\n",
      "Requirement already satisfied: idna<4,>=2.5 in c:\\users\\this pc\\anaconda3\\envs\\tf-new\\lib\\site-packages (from requests->unstructured) (3.4)\n",
      "Requirement already satisfied: urllib3<3,>=1.21.1 in c:\\users\\this pc\\anaconda3\\envs\\tf-new\\lib\\site-packages (from requests->unstructured) (2.2.2)\n",
      "Requirement already satisfied: certifi>=2017.4.17 in c:\\users\\this pc\\anaconda3\\envs\\tf-new\\lib\\site-packages (from requests->unstructured) (2024.2.2)\n",
      "Requirement already satisfied: colorama in c:\\users\\this pc\\anaconda3\\envs\\tf-new\\lib\\site-packages (from tqdm->unstructured) (0.4.6)\n",
      "Requirement already satisfied: deepdiff>=6.0 in c:\\users\\this pc\\anaconda3\\envs\\tf-new\\lib\\site-packages (from unstructured-client->unstructured) (7.0.1)\n",
      "Requirement already satisfied: httpx>=0.27.0 in c:\\users\\this pc\\anaconda3\\envs\\tf-new\\lib\\site-packages (from unstructured-client->unstructured) (0.27.0)\n",
      "Requirement already satisfied: jsonpath-python>=1.0.6 in c:\\users\\this pc\\anaconda3\\envs\\tf-new\\lib\\site-packages (from unstructured-client->unstructured) (1.0.6)\n",
      "Requirement already satisfied: mypy-extensions>=1.0.0 in c:\\users\\this pc\\anaconda3\\envs\\tf-new\\lib\\site-packages (from unstructured-client->unstructured) (1.0.0)\n",
      "Requirement already satisfied: nest-asyncio>=1.6.0 in c:\\users\\this pc\\anaconda3\\envs\\tf-new\\lib\\site-packages (from unstructured-client->unstructured) (1.6.0)\n",
      "Requirement already satisfied: packaging>=23.1 in c:\\users\\this pc\\anaconda3\\envs\\tf-new\\lib\\site-packages (from unstructured-client->unstructured) (23.2)\n",
      "Requirement already satisfied: pypdf>=4.0 in c:\\users\\this pc\\anaconda3\\envs\\tf-new\\lib\\site-packages (from unstructured-client->unstructured) (4.2.0)\n",
      "Requirement already satisfied: python-dateutil>=2.8.2 in c:\\users\\this pc\\anaconda3\\envs\\tf-new\\lib\\site-packages (from unstructured-client->unstructured) (2.8.2)\n",
      "Requirement already satisfied: requests-toolbelt>=1.0.0 in c:\\users\\this pc\\anaconda3\\envs\\tf-new\\lib\\site-packages (from unstructured-client->unstructured) (1.0.0)\n",
      "Requirement already satisfied: ordered-set<4.2.0,>=4.1.0 in c:\\users\\this pc\\anaconda3\\envs\\tf-new\\lib\\site-packages (from deepdiff>=6.0->unstructured-client->unstructured) (4.1.0)\n",
      "Requirement already satisfied: anyio in c:\\users\\this pc\\anaconda3\\envs\\tf-new\\lib\\site-packages (from httpx>=0.27.0->unstructured-client->unstructured) (3.5.0)\n",
      "Requirement already satisfied: httpcore==1.* in c:\\users\\this pc\\anaconda3\\envs\\tf-new\\lib\\site-packages (from httpx>=0.27.0->unstructured-client->unstructured) (1.0.5)\n",
      "Requirement already satisfied: sniffio in c:\\users\\this pc\\anaconda3\\envs\\tf-new\\lib\\site-packages (from httpx>=0.27.0->unstructured-client->unstructured) (1.2.0)\n",
      "Requirement already satisfied: h11<0.15,>=0.13 in c:\\users\\this pc\\anaconda3\\envs\\tf-new\\lib\\site-packages (from httpcore==1.*->httpx>=0.27.0->unstructured-client->unstructured) (0.14.0)\n",
      "Downloading python_magic_bin-0.4.14-py2.py3-none-win_amd64.whl (409 kB)\n",
      "   ---------------------------------------- 0.0/409.3 kB ? eta -:--:--\n",
      "   --- ------------------------------------ 30.7/409.3 kB 1.3 MB/s eta 0:00:01\n",
      "   --- ----------------------------------- 41.0/409.3 kB 393.8 kB/s eta 0:00:01\n",
      "   ------- ------------------------------- 81.9/409.3 kB 651.6 kB/s eta 0:00:01\n",
      "   ------------ ------------------------- 133.1/409.3 kB 714.4 kB/s eta 0:00:01\n",
      "   --------------- ---------------------- 163.8/409.3 kB 701.4 kB/s eta 0:00:01\n",
      "   ---------------------- --------------- 245.8/409.3 kB 885.4 kB/s eta 0:00:01\n",
      "   ------------------------ ------------- 266.2/409.3 kB 862.0 kB/s eta 0:00:01\n",
      "   ---------------------------------- --- 368.6/409.3 kB 995.6 kB/s eta 0:00:01\n",
      "   -------------------------------------  399.4/409.3 kB 958.4 kB/s eta 0:00:01\n",
      "   -------------------------------------  399.4/409.3 kB 958.4 kB/s eta 0:00:01\n",
      "   -------------------------------------- 409.3/409.3 kB 850.9 kB/s eta 0:00:00\n",
      "Building wheels for collected packages: libmagic\n",
      "  Building wheel for libmagic (setup.py): started\n",
      "  Building wheel for libmagic (setup.py): finished with status 'done'\n",
      "  Created wheel for libmagic: filename=libmagic-1.0-py3-none-any.whl size=4277 sha256=27f72c7a2f69e5dc73dfa3ebe73147a7d6ca34e6c56a18f4d83e2e32e236a422\n",
      "  Stored in directory: c:\\users\\this pc\\appdata\\local\\pip\\cache\\wheels\\f8\\8a\\32\\b5e5458427778faf24ad32526c49e2dc5d20f32c96bf6ce236\n",
      "Successfully built libmagic\n",
      "Installing collected packages: python-magic-bin, libmagic\n",
      "Successfully installed libmagic-1.0 python-magic-bin-0.4.14\n"
     ]
    }
   ],
   "source": [
    "!pip install unstructured libmagic python-magic python-magic-bin"
   ]
  },
  {
   "cell_type": "code",
   "execution_count": 16,
   "id": "d38003ee",
   "metadata": {},
   "outputs": [],
   "source": [
    "from langchain.document_loaders import UnstructuredURLLoader"
   ]
  },
  {
   "cell_type": "code",
   "execution_count": 17,
   "id": "121e11aa",
   "metadata": {},
   "outputs": [],
   "source": [
    "loader = UnstructuredURLLoader(\n",
    "    urls = [\n",
    "        \"https://www.moneycontrol.com/news/business/banks/hdfc-bank-re-appoints-sanmoy-chakrabarti-as-chief-risk-officer-11259771.html\",\n",
    "        \"https://www.moneycontrol.com/news/business/markets/market-corrects-post-rbi-ups-inflation-forecast-icrr-bet-on-these-top-10-rate-sensitive-stocks-ideas-11142611.html\"\n",
    "    ]\n",
    ")"
   ]
  },
  {
   "cell_type": "code",
   "execution_count": 18,
   "id": "d1a714e0",
   "metadata": {},
   "outputs": [
    {
     "name": "stderr",
     "output_type": "stream",
     "text": [
      "[nltk_data] Downloading package punkt to C:\\Users\\This\n",
      "[nltk_data]     PC\\AppData\\Roaming\\nltk_data...\n",
      "[nltk_data]   Unzipping tokenizers\\punkt.zip.\n",
      "[nltk_data] Downloading package averaged_perceptron_tagger to\n",
      "[nltk_data]     C:\\Users\\This PC\\AppData\\Roaming\\nltk_data...\n",
      "[nltk_data]   Unzipping taggers\\averaged_perceptron_tagger.zip.\n"
     ]
    },
    {
     "data": {
      "text/plain": [
       "2"
      ]
     },
     "execution_count": 18,
     "metadata": {},
     "output_type": "execute_result"
    }
   ],
   "source": [
    "data = loader.load()\n",
    "len(data)"
   ]
  },
  {
   "cell_type": "markdown",
   "id": "9d113767",
   "metadata": {},
   "source": [
    "# Text Splitters"
   ]
  },
  {
   "cell_type": "code",
   "execution_count": 19,
   "id": "c4b2d45a",
   "metadata": {},
   "outputs": [
    {
     "data": {
      "text/plain": [
       "'English\\n\\nHindi\\n\\nGujarati\\n\\nSpecials\\n\\nMoneycontrol Trending Stock\\n\\nInfosys\\xa0INE009A01021, INFY, 500209\\n'"
      ]
     },
     "execution_count": 19,
     "metadata": {},
     "output_type": "execute_result"
    }
   ],
   "source": [
    "data[0].page_content[0:100]"
   ]
  },
  {
   "cell_type": "code",
   "execution_count": 22,
   "id": "f6385026",
   "metadata": {},
   "outputs": [],
   "source": [
    "# Taking some random text from wikipedia\n",
    "\n",
    "text = \"\"\"Interstellar is a 2014 epic science fiction film co-written, directed, and produced by Christopher Nolan. \n",
    "It stars Matthew McConaughey, Anne Hathaway, Jessica Chastain, Bill Irwin, Ellen Burstyn, Matt Damon, and Michael Caine. \n",
    "Set in a dystopian future where humanity is embroiled in a catastrophic blight and famine, the film follows a group of astronauts who travel through a wormhole near Saturn in search of a new home for humankind.\n",
    "\n",
    "Brothers Christopher and Jonathan Nolan wrote the screenplay, which had its origins in a script Jonathan developed in 2007 and was originally set to be directed by Steven Spielberg. \n",
    "Kip Thorne, a Caltech theoretical physicist and 2017 Nobel laureate in Physics,[4] was an executive producer, acted as a scientific consultant, and wrote a tie-in book, The Science of Interstellar. \n",
    "Cinematographer Hoyte van Hoytema shot it on 35 mm movie film in the Panavision anamorphic format and IMAX 70 mm. Principal photography began in late 2013 and took place in Alberta, Iceland, and Los Angeles. \n",
    "Interstellar uses extensive practical and miniature effects, and the company Double Negative created additional digital effects.\n",
    "\n",
    "Interstellar premiered in Los Angeles on October 26, 2014. In the United States, it was first released on film stock, expanding to venues using digital projectors. The film received generally positive reviews from critics and grossed over $677 million worldwide ($715 million after subsequent re-releases), making it the tenth-highest-grossing film of 2014. \n",
    "It has been praised by astronomers for its scientific accuracy and portrayal of theoretical astrophysics.[5][6][7] Interstellar was nominated for five awards at the 87th Academy Awards, winning Best Visual Effects, and received numerous other accolades.\"\"\""
   ]
  },
  {
   "cell_type": "markdown",
   "id": "bfe86613",
   "metadata": {},
   "source": [
    "CharacterTextSplitter"
   ]
  },
  {
   "cell_type": "code",
   "execution_count": 20,
   "id": "85d8f8f8",
   "metadata": {},
   "outputs": [],
   "source": [
    "from langchain.text_splitter import CharacterTextSplitter\n",
    "\n",
    "splitter = CharacterTextSplitter(\n",
    "    separator = \"\\n\",\n",
    "    chunk_size=200,\n",
    "    chunk_overlap=0\n",
    ")"
   ]
  },
  {
   "cell_type": "code",
   "execution_count": 23,
   "id": "1121b93f",
   "metadata": {},
   "outputs": [
    {
     "name": "stderr",
     "output_type": "stream",
     "text": [
      "Created a chunk of size 210, which is longer than the specified 200\n",
      "Created a chunk of size 208, which is longer than the specified 200\n",
      "Created a chunk of size 358, which is longer than the specified 200\n"
     ]
    },
    {
     "data": {
      "text/plain": [
       "9"
      ]
     },
     "execution_count": 23,
     "metadata": {},
     "output_type": "execute_result"
    }
   ],
   "source": [
    "chunks = splitter.split_text(text)\n",
    "len(chunks)"
   ]
  },
  {
   "cell_type": "code",
   "execution_count": 24,
   "id": "db40de64",
   "metadata": {},
   "outputs": [
    {
     "name": "stdout",
     "output_type": "stream",
     "text": [
      "105\n",
      "120\n",
      "210\n",
      "181\n",
      "197\n",
      "207\n",
      "128\n",
      "357\n",
      "253\n"
     ]
    }
   ],
   "source": [
    "for chunk in chunks:\n",
    "    print(len(chunk))"
   ]
  },
  {
   "cell_type": "markdown",
   "id": "78b2920c",
   "metadata": {},
   "source": [
    "RecursiveTextSplitter"
   ]
  },
  {
   "cell_type": "code",
   "execution_count": 30,
   "id": "62d08a7e",
   "metadata": {},
   "outputs": [],
   "source": [
    "from langchain.text_splitter import RecursiveCharacterTextSplitter\n",
    "\n",
    "r_splitter = RecursiveCharacterTextSplitter(\n",
    "    separators = [\"\\n\\n\", \"\\n\", \" \"],  \n",
    "    chunk_size = 200,  \n",
    "    chunk_overlap  = 0,  \n",
    "    length_function = len  \n",
    ")"
   ]
  },
  {
   "cell_type": "code",
   "execution_count": 31,
   "id": "c41dfd4c",
   "metadata": {},
   "outputs": [
    {
     "name": "stdout",
     "output_type": "stream",
     "text": [
      "105\n",
      "120\n",
      "199\n",
      "10\n",
      "181\n",
      "197\n",
      "198\n",
      "8\n",
      "128\n",
      "191\n",
      "165\n",
      "198\n",
      "54\n"
     ]
    }
   ],
   "source": [
    "chunks = r_splitter.split_text(text)\n",
    "\n",
    "for chunk in chunks:\n",
    "    print(len(chunk))"
   ]
  },
  {
   "cell_type": "code",
   "execution_count": null,
   "id": "8a1011ba",
   "metadata": {},
   "outputs": [],
   "source": []
  }
 ],
 "metadata": {
  "kernelspec": {
   "display_name": "Python 3 (ipykernel)",
   "language": "python",
   "name": "python3"
  },
  "language_info": {
   "codemirror_mode": {
    "name": "ipython",
    "version": 3
   },
   "file_extension": ".py",
   "mimetype": "text/x-python",
   "name": "python",
   "nbconvert_exporter": "python",
   "pygments_lexer": "ipython3",
   "version": "3.9.18"
  }
 },
 "nbformat": 4,
 "nbformat_minor": 5
}
